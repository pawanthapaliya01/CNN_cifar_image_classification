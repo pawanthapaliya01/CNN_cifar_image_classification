{
 "cells": [
  {
   "cell_type": "code",
   "execution_count": 2,
   "id": "13334f95",
   "metadata": {},
   "outputs": [
    {
     "name": "stderr",
     "output_type": "stream",
     "text": [
      "2023-08-12 11:52:41.678186: I tensorflow/core/platform/cpu_feature_guard.cc:193] This TensorFlow binary is optimized with oneAPI Deep Neural Network Library (oneDNN) to use the following CPU instructions in performance-critical operations:  SSE4.1 SSE4.2 AVX AVX2 FMA\n",
      "To enable them in other operations, rebuild TensorFlow with the appropriate compiler flags.\n"
     ]
    }
   ],
   "source": [
    "# T\n",
    "import tensorflow as tf\n",
    "from tensorflow.keras import datasets, layers, models,Sequential\n",
    "import matplotlib.pyplot as plt\n",
    "import numpy as np"
   ]
  },
  {
   "cell_type": "code",
   "execution_count": 3,
   "id": "91a3b87a",
   "metadata": {},
   "outputs": [],
   "source": [
    "(X_train,y_train),(X_test,y_test)=datasets.cifar10.load_data()"
   ]
  },
  {
   "cell_type": "code",
   "execution_count": 4,
   "id": "3c36e4da",
   "metadata": {},
   "outputs": [
    {
     "data": {
      "text/plain": [
       "(50000, 32, 32, 3)"
      ]
     },
     "execution_count": 4,
     "metadata": {},
     "output_type": "execute_result"
    }
   ],
   "source": [
    "X_train.shape"
   ]
  },
  {
   "cell_type": "code",
   "execution_count": 7,
   "id": "ab996ce8",
   "metadata": {},
   "outputs": [
    {
     "data": {
      "text/plain": [
       "(10000, 32, 32, 3)"
      ]
     },
     "execution_count": 7,
     "metadata": {},
     "output_type": "execute_result"
    }
   ],
   "source": [
    "X_test.shape"
   ]
  },
  {
   "cell_type": "code",
   "execution_count": 8,
   "id": "eb405c10",
   "metadata": {},
   "outputs": [
    {
     "data": {
      "text/plain": [
       "array([[[125, 125, 116],\n",
       "        [110, 101,  91],\n",
       "        [102,  90,  83],\n",
       "        ...,\n",
       "        [202, 207, 214],\n",
       "        [200, 205, 212],\n",
       "        [202, 208, 214]],\n",
       "\n",
       "       [[142, 146, 142],\n",
       "        [146, 144, 139],\n",
       "        [176, 172, 170],\n",
       "        ...,\n",
       "        [195, 201, 205],\n",
       "        [198, 205, 209],\n",
       "        [204, 211, 215]],\n",
       "\n",
       "       [[180, 185, 183],\n",
       "        [143, 146, 146],\n",
       "        [156, 157, 157],\n",
       "        ...,\n",
       "        [122, 111, 113],\n",
       "        [139, 128, 131],\n",
       "        [158, 147, 150]],\n",
       "\n",
       "       ...,\n",
       "\n",
       "       [[104,  82,  41],\n",
       "        [101,  80,  39],\n",
       "        [101,  81,  38],\n",
       "        ...,\n",
       "        [126, 103,  67],\n",
       "        [126, 103,  69],\n",
       "        [125, 101,  68]],\n",
       "\n",
       "       [[104,  81,  40],\n",
       "        [105,  84,  41],\n",
       "        [109,  88,  43],\n",
       "        ...,\n",
       "        [138, 113,  78],\n",
       "        [137, 113,  80],\n",
       "        [137, 112,  81]],\n",
       "\n",
       "       [[105,  83,  42],\n",
       "        [108,  87,  45],\n",
       "        [115,  94,  50],\n",
       "        ...,\n",
       "        [143, 117,  82],\n",
       "        [143, 116,  84],\n",
       "        [144, 116,  86]]], dtype=uint8)"
      ]
     },
     "execution_count": 8,
     "metadata": {},
     "output_type": "execute_result"
    }
   ],
   "source": [
    "X_train[9]"
   ]
  },
  {
   "cell_type": "code",
   "execution_count": 9,
   "id": "de2e81ff",
   "metadata": {},
   "outputs": [
    {
     "data": {
      "text/plain": [
       "<matplotlib.image.AxesImage at 0x7f40f03f6740>"
      ]
     },
     "execution_count": 9,
     "metadata": {},
     "output_type": "execute_result"
    },
    {
     "data": {
      "image/png": "[encoded data removed]",
      "text/plain": [
       "<Figure size 640x480 with 1 Axes>"
      ]
     },
     "metadata": {},
     "output_type": "display_data"
    }
   ],
   "source": [
    "plt.imshow(X_train[9])"
   ]
  },
  {
   "cell_type": "code",
   "execution_count": 13,
   "id": "6be70428",
   "metadata": {},
   "outputs": [
    {
     "data": {
      "text/plain": [
       "array([[6],\n",
       "       [9]], dtype=uint8)"
      ]
     },
     "execution_count": 13,
     "metadata": {},
     "output_type": "execute_result"
    }
   ],
   "source": [
    "y_train[:2]"
   ]
  },
  {
   "cell_type": "code",
   "execution_count": 10,
   "id": "bfb86332",
   "metadata": {},
   "outputs": [
    {
     "data": {
      "text/plain": [
       "array([6, 9, 9, 4, 1, 1, 2], dtype=uint8)"
      ]
     },
     "execution_count": 10,
     "metadata": {},
     "output_type": "execute_result"
    }
   ],
   "source": [
    "y_train=y_train.reshape(-1,)\n",
    "y_train[:7]"
   ]
  },
  {
   "cell_type": "code",
   "execution_count": 12,
   "id": "38d9c6ef",
   "metadata": {},
   "outputs": [],
   "source": [
    "classes=['airplane','automobile','bird','cat','dear','dog','frog','horse','ship','truck']"
   ]
  },
  {
   "cell_type": "code",
   "execution_count": 18,
   "id": "979d4601",
   "metadata": {},
   "outputs": [],
   "source": [
    "def plot_sample(x,y,index):\n",
    "    plt.figure(figsize=(15,2))\n",
    "    plt.imshow(x[index])\n",
    "    plt.xlabel(classes[y[index]])"
   ]
  },
  {
   "cell_type": "code",
   "execution_count": 20,
   "id": "837ff2df",
   "metadata": {},
   "outputs": [
    {
     "data": {
      "image/png": "[encoded data removed]",
      "text/plain": [
       "<Figure size 1500x200 with 1 Axes>"
      ]
     },
     "metadata": {},
     "output_type": "display_data"
    },
    {
     "data": {
      "image/png": "[encoded data removed]",
      "text/plain": [
       "<Figure size 1500x200 with 1 Axes>"
      ]
     },
     "metadata": {},
     "output_type": "display_data"
    },
    {
     "data": {
      "image/png": "[encoded data removed]",
      "text/plain": [
       "<Figure size 1500x200 with 1 Axes>"
      ]
     },
     "metadata": {},
     "output_type": "display_data"
    },
    {
     "data": {
      "image/png": "[encoded data removed]",
      "text/plain": [
       "<Figure size 1500x200 with 1 Axes>"
      ]
     },
     "metadata": {},
     "output_type": "display_data"
    },
    {
     "data": {
      "image/png": "[encoded data removed]",
      "text/plain": [
       "<Figure size 1500x200 with 1 Axes>"
      ]
     },
     "metadata": {},
     "output_type": "display_data"
    },
    {
     "data": {
      "image/png": "[encoded data removed]",
      "text/plain": [
       "<Figure size 1500x200 with 1 Axes>"
      ]
     },
     "metadata": {},
     "output_type": "display_data"
    },
    {
     "data": {
      "image/png": "[encoded data removed]",
      "text/plain": [
       "<Figure size 1500x200 with 1 Axes>"
      ]
     },
     "metadata": {},
     "output_type": "display_data"
    },
    {
     "data": {
      "image/png": "[encoded data removed]",
      "text/plain": [
       "<Figure size 1500x200 with 1 Axes>"
      ]
     },
     "metadata": {},
     "output_type": "display_data"
    },
    {
     "data": {
      "image/png": "[encoded data removed]",
      "text/plain": [
       "<Figure size 1500x200 with 1 Axes>"
      ]
     },
     "metadata": {},
     "output_type": "display_data"
    },
    {
     "data": {
      "image/png": "[encoded data removed]",
      "text/plain": [
       "<Figure size 1500x200 with 1 Axes>"
      ]
     },
     "metadata": {},
     "output_type": "display_data"
    }
   ],
   "source": [
    "for i in range(10):\n",
    "    plot_sample(X_train,y_train,i)"
   ]
  },
  {
   "cell_type": "code",
   "execution_count": 23,
   "id": "15e163ce",
   "metadata": {},
   "outputs": [],
   "source": [
    "X_train=X_train/255\n",
    "X_test=X_test/255"
   ]
  },
  {
   "cell_type": "code",
   "execution_count": 26,
   "id": "ae456d7c",
   "metadata": {},
   "outputs": [],
   "source": [
    "ann=models.Sequential([\n",
    "    layers.Flatten(input_shape=(32,32,3)),\n",
    "    layers.Dense(3000,activation='relu'),\n",
    "    layers.Dense(1000,activation='relu'),\n",
    "    layers.Dense(10,activation='sigmoid')\n",
    "])"
   ]
  },
  {
   "cell_type": "code",
   "execution_count": 27,
   "id": "4d513e3b",
   "metadata": {},
   "outputs": [],
   "source": [
    "ann.compile(optimizer='SGD',\n",
    "           loss='sparse_categorical_crossentropy',\n",
    "            metrics=['accuracy'])\n"
   ]
  },
  {
   "cell_type": "code",
   "execution_count": 29,
   "id": "42e74616",
   "metadata": {},
   "outputs": [
    {
     "name": "stdout",
     "output_type": "stream",
     "text": [
      "Epoch 1/5\n",
      "1563/1563 [==============================] - 111s 71ms/step - loss: 1.8159 - accuracy: 0.3533\n",
      "Epoch 2/5\n",
      "1563/1563 [==============================] - 124s 79ms/step - loss: 1.6269 - accuracy: 0.4249\n",
      "Epoch 3/5\n",
      "1563/1563 [==============================] - 117s 75ms/step - loss: 1.5401 - accuracy: 0.4558\n",
      "Epoch 4/5\n",
      "1563/1563 [==============================] - 106s 68ms/step - loss: 1.4814 - accuracy: 0.4770\n",
      "Epoch 5/5\n",
      "1563/1563 [==============================] - 105s 67ms/step - loss: 1.4311 - accuracy: 0.4956\n"
     ]
    },
    {
     "data": {
      "text/plain": [
       "<keras.callbacks.History at 0x7f8dfc98ec80>"
      ]
     },
     "execution_count": 29,
     "metadata": {},
     "output_type": "execute_result"
    }
   ],
   "source": [
    "ann.fit(X_train,y_train,epochs=5)"
   ]
  },
  {
   "cell_type": "code",
   "execution_count": 30,
   "id": "7fc86135",
   "metadata": {},
   "outputs": [
    {
     "name": "stdout",
     "output_type": "stream",
     "text": [
      "313/313 [==============================] - 5s 17ms/step - loss: 1.5007 - accuracy: 0.4669\n"
     ]
    },
    {
     "data": {
      "text/plain": [
       "[1.500686764717102, 0.4668999910354614]"
      ]
     },
     "execution_count": 30,
     "metadata": {},
     "output_type": "execute_result"
    }
   ],
   "source": [
    "ann.evaluate(X_test,y_test)"
   ]
  },
  {
   "cell_type": "code",
   "execution_count": 31,
   "id": "84960c82",
   "metadata": {},
   "outputs": [
    {
     "name": "stdout",
     "output_type": "stream",
     "text": [
      "313/313 [==============================] - 6s 20ms/step\n"
     ]
    }
   ],
   "source": [
    "from sklearn .metrics import confusion_matrix, classification_report\n",
    "import numpy as np\n",
    "y_pred=ann.predict(X_test)\n",
    "y_pred_classes=[np.argmax(element) for element in y_pred]"
   ]
  },
  {
   "cell_type": "code",
   "execution_count": 32,
   "id": "c0bf7be0",
   "metadata": {},
   "outputs": [
    {
     "name": "stdout",
     "output_type": "stream",
     "text": [
      "Classification Report: \n",
      "               precision    recall  f1-score   support\n",
      "\n",
      "           0       0.44      0.63      0.52      1000\n",
      "           1       0.43      0.76      0.55      1000\n",
      "           2       0.33      0.48      0.39      1000\n",
      "           3       0.41      0.28      0.33      1000\n",
      "           4       0.46      0.32      0.38      1000\n",
      "           5       0.51      0.24      0.33      1000\n",
      "           6       0.56      0.49      0.52      1000\n",
      "           7       0.67      0.40      0.50      1000\n",
      "           8       0.55      0.64      0.59      1000\n",
      "           9       0.51      0.43      0.46      1000\n",
      "\n",
      "    accuracy                           0.47     10000\n",
      "   macro avg       0.49      0.47      0.46     10000\n",
      "weighted avg       0.49      0.47      0.46     10000\n",
      "\n"
     ]
    }
   ],
   "source": [
    "print('Classification Report: \\n',classification_report(y_test,y_pred_classes))"
   ]
  },
  {
   "cell_type": "code",
   "execution_count": 44,
   "id": "169d31e6",
   "metadata": {},
   "outputs": [],
   "source": [
    "cnn=models.Sequential([\n",
    "    #cnn\n",
    "    layers.Conv2D(filters=32,kernel_size=(3,3),activation='relu',input_shape=(32,32,3)),\n",
    "    layers.MaxPooling2D((2,2)),\n",
    "    #dense\n",
    "    layers.Conv2D(filters=64,kernel_size=(3,3),activation='relu'),\n",
    "    layers.MaxPooling2D((2,2)),\n",
    "    layers.Flatten(),\n",
    "    layers.Dense(64,activation='relu'),\n",
    "    layers.Dense(10,activation='softmax')\n",
    "    \n",
    "])"
   ]
  },
  {
   "cell_type": "code",
   "execution_count": 46,
   "id": "d1c0ae33",
   "metadata": {},
   "outputs": [],
   "source": [
    "cnn.compile(optimizer='adam',loss='sparse_categorical_crossentropy',\n",
    "           metrics=['accuracy'])"
   ]
  },
  {
   "cell_type": "code",
   "execution_count": 48,
   "id": "80701061",
   "metadata": {},
   "outputs": [
    {
     "name": "stdout",
     "output_type": "stream",
     "text": [
      "Epoch 1/10\n",
      "1563/1563 [==============================] - 125s 80ms/step - loss: 1.4612 - accuracy: 0.4777\n",
      "Epoch 2/10\n",
      "1563/1563 [==============================] - 130s 83ms/step - loss: 1.1067 - accuracy: 0.6140\n",
      "Epoch 3/10\n",
      "1563/1563 [==============================] - 128s 82ms/step - loss: 0.9753 - accuracy: 0.6609\n",
      "Epoch 4/10\n",
      "1563/1563 [==============================] - 125s 80ms/step - loss: 0.8878 - accuracy: 0.6931\n",
      "Epoch 5/10\n",
      "1563/1563 [==============================] - 122s 78ms/step - loss: 0.8160 - accuracy: 0.7203\n",
      "Epoch 6/10\n",
      "1563/1563 [==============================] - 135s 86ms/step - loss: 0.7560 - accuracy: 0.7383\n",
      "Epoch 7/10\n",
      "1563/1563 [==============================] - 126s 80ms/step - loss: 0.7035 - accuracy: 0.7570\n",
      "Epoch 8/10\n",
      "1563/1563 [==============================] - 119s 76ms/step - loss: 0.6574 - accuracy: 0.7709\n",
      "Epoch 9/10\n",
      "1563/1563 [==============================] - 124s 79ms/step - loss: 0.6098 - accuracy: 0.7875\n",
      "Epoch 10/10\n",
      "1563/1563 [==============================] - 121s 78ms/step - loss: 0.5729 - accuracy: 0.7993\n"
     ]
    },
    {
     "data": {
      "text/plain": [
       "<keras.callbacks.History at 0x7f8d5aec4850>"
      ]
     },
     "execution_count": 48,
     "metadata": {},
     "output_type": "execute_result"
    }
   ],
   "source": [
    "cnn.fit(X_train,y_train,epochs=10)"
   ]
  },
  {
   "cell_type": "code",
   "execution_count": 49,
   "id": "e9179463",
   "metadata": {},
   "outputs": [
    {
     "name": "stdout",
     "output_type": "stream",
     "text": [
      "313/313 [==============================] - 9s 30ms/step - loss: 0.9407 - accuracy: 0.7020\n"
     ]
    },
    {
     "data": {
      "text/plain": [
       "[0.9406609535217285, 0.7020000219345093]"
      ]
     },
     "execution_count": 49,
     "metadata": {},
     "output_type": "execute_result"
    }
   ],
   "source": [
    "cnn.evaluate(X_test,y_test)"
   ]
  },
  {
   "cell_type": "code",
   "execution_count": 50,
   "id": "22352896",
   "metadata": {},
   "outputs": [
    {
     "data": {
      "image/png": "[encoded data removed]",
      "text/plain": [
       "<Figure size 1500x200 with 1 Axes>"
      ]
     },
     "metadata": {},
     "output_type": "display_data"
    }
   ],
   "source": [
    "y_test=y_test.reshape(-1,)\n",
    "plot_sample(X_test,y_test,1)"
   ]
  },
  {
   "cell_type": "code",
   "execution_count": 52,
   "id": "dde7f6fa",
   "metadata": {},
   "outputs": [
    {
     "name": "stdout",
     "output_type": "stream",
     "text": [
      "313/313 [==============================] - 11s 35ms/step\n"
     ]
    },
    {
     "data": {
      "text/plain": [
       "array([[1.91545609e-04, 2.41249509e-05, 1.59842384e-04, 8.88635993e-01,\n",
       "        7.29140535e-04, 1.72024593e-02, 9.28424597e-02, 9.80389959e-05,\n",
       "        1.07307780e-04, 9.11638563e-06],\n",
       "       [1.11483067e-04, 3.06812320e-02, 4.81306266e-08, 1.50707646e-09,\n",
       "        5.27218130e-11, 8.22995838e-12, 2.11262171e-11, 9.43325930e-13,\n",
       "        9.69200850e-01, 6.29695251e-06],\n",
       "       [5.80245294e-02, 7.31512383e-02, 1.03536050e-03, 1.64366956e-03,\n",
       "        3.84524647e-05, 4.68386395e-04, 1.64782632e-05, 3.86831729e-04,\n",
       "        8.60509932e-01, 4.72507905e-03],\n",
       "       [9.73327756e-01, 2.63839378e-03, 8.66669056e-04, 7.22724828e-04,\n",
       "        2.23712661e-04, 4.25293820e-06, 5.30449461e-06, 2.13785097e-06,\n",
       "        2.21026260e-02, 1.06360785e-04],\n",
       "       [4.10119469e-07, 8.72174496e-06, 3.47907934e-03, 6.54134667e-03,\n",
       "        9.38974440e-01, 8.54337050e-05, 5.09046465e-02, 5.27839484e-06,\n",
       "        6.82512791e-07, 1.63305405e-08]], dtype=float32)"
      ]
     },
     "execution_count": 52,
     "metadata": {},
     "output_type": "execute_result"
    }
   ],
   "source": [
    "y_pred=cnn.predict(X_test)\n",
    "y_pred[:5]"
   ]
  },
  {
   "cell_type": "code",
   "execution_count": 58,
   "id": "fbe76525",
   "metadata": {},
   "outputs": [
    {
     "data": {
      "text/plain": [
       "[3,\n",
       " 8,\n",
       " 8,\n",
       " 0,\n",
       " 4,\n",
       " 6,\n",
       " 3,\n",
       " 2,\n",
       " 3,\n",
       " 1,\n",
       " 0,\n",
       " 9,\n",
       " 5,\n",
       " 7,\n",
       " 9,\n",
       " 6,\n",
       " 5,\n",
       " 7,\n",
       " 8,\n",
       " 6,\n",
       " 7,\n",
       " 0,\n",
       " 4,\n",
       " 9,\n",
       " 4,\n",
       " 6,\n",
       " 4,\n",
       " 0,\n",
       " 9,\n",
       " 6,\n",
       " 6,\n",
       " 5,\n",
       " 4,\n",
       " 5,\n",
       " 9,\n",
       " 3,\n",
       " 7,\n",
       " 0,\n",
       " 9,\n",
       " 5,\n",
       " 4,\n",
       " 6,\n",
       " 5,\n",
       " 2,\n",
       " 0,\n",
       " 9,\n",
       " 3,\n",
       " 7,\n",
       " 7,\n",
       " 4,\n",
       " 9,\n",
       " 8,\n",
       " 7,\n",
       " 3,\n",
       " 8,\n",
       " 8,\n",
       " 7,\n",
       " 8,\n",
       " 5,\n",
       " 2,\n",
       " 7,\n",
       " 5,\n",
       " 6,\n",
       " 3,\n",
       " 6,\n",
       " 2,\n",
       " 1,\n",
       " 0,\n",
       " 5,\n",
       " 7,\n",
       " 0,\n",
       " 6,\n",
       " 8,\n",
       " 8,\n",
       " 9,\n",
       " 2,\n",
       " 2,\n",
       " 3,\n",
       " 5,\n",
       " 8,\n",
       " 8,\n",
       " 9,\n",
       " 1,\n",
       " 7,\n",
       " 2,\n",
       " 7,\n",
       " 3,\n",
       " 8,\n",
       " 9,\n",
       " 9,\n",
       " 0,\n",
       " 6,\n",
       " 8,\n",
       " 6,\n",
       " 4,\n",
       " 6,\n",
       " 4,\n",
       " 0,\n",
       " 0,\n",
       " 3,\n",
       " 4,\n",
       " 5,\n",
       " 6,\n",
       " 3,\n",
       " 1,\n",
       " 1,\n",
       " 3,\n",
       " 6,\n",
       " 8,\n",
       " 7,\n",
       " 4,\n",
       " 0,\n",
       " 2,\n",
       " 2,\n",
       " 1,\n",
       " 3,\n",
       " 0,\n",
       " 4,\n",
       " 6,\n",
       " 5,\n",
       " 8,\n",
       " 7,\n",
       " 1,\n",
       " 2,\n",
       " 8,\n",
       " 0,\n",
       " 8,\n",
       " 3,\n",
       " 3,\n",
       " 0,\n",
       " 4,\n",
       " 1,\n",
       " 8,\n",
       " 9,\n",
       " 1,\n",
       " 2,\n",
       " 9,\n",
       " 7,\n",
       " 2,\n",
       " 8,\n",
       " 3,\n",
       " 5,\n",
       " 6,\n",
       " 5,\n",
       " 8,\n",
       " 7,\n",
       " 6,\n",
       " 6,\n",
       " 3,\n",
       " 5,\n",
       " 8,\n",
       " 1,\n",
       " 6,\n",
       " 0,\n",
       " 0,\n",
       " 5,\n",
       " 2,\n",
       " 9,\n",
       " 3,\n",
       " 4,\n",
       " 0,\n",
       " 1,\n",
       " 5,\n",
       " 6,\n",
       " 0,\n",
       " 4,\n",
       " 8,\n",
       " 6,\n",
       " 5,\n",
       " 0,\n",
       " 9,\n",
       " 0,\n",
       " 9,\n",
       " 8,\n",
       " 9,\n",
       " 9,\n",
       " 3,\n",
       " 7,\n",
       " 5,\n",
       " 9,\n",
       " 0,\n",
       " 5,\n",
       " 2,\n",
       " 2,\n",
       " 5,\n",
       " 8,\n",
       " 6,\n",
       " 3,\n",
       " 7,\n",
       " 8,\n",
       " 5,\n",
       " 8,\n",
       " 0,\n",
       " 1,\n",
       " 7,\n",
       " 4,\n",
       " 8,\n",
       " 8,\n",
       " 5,\n",
       " 8,\n",
       " 3,\n",
       " 0,\n",
       " 8,\n",
       " 7,\n",
       " 1,\n",
       " 3,\n",
       " 0,\n",
       " 5,\n",
       " 7,\n",
       " 9,\n",
       " 7,\n",
       " 9,\n",
       " 5,\n",
       " 7,\n",
       " 0,\n",
       " 0,\n",
       " 0,\n",
       " 9,\n",
       " 8,\n",
       " 2,\n",
       " 7,\n",
       " 4,\n",
       " 9,\n",
       " 5,\n",
       " 4,\n",
       " 9,\n",
       " 9,\n",
       " 0,\n",
       " 3,\n",
       " 6,\n",
       " 5,\n",
       " 1,\n",
       " 3,\n",
       " 8,\n",
       " 8,\n",
       " 0,\n",
       " 4,\n",
       " 7,\n",
       " 5,\n",
       " 5,\n",
       " 1,\n",
       " 1,\n",
       " 1,\n",
       " 9,\n",
       " 0,\n",
       " 2,\n",
       " 1,\n",
       " 8,\n",
       " 2,\n",
       " 0,\n",
       " 5,\n",
       " 5,\n",
       " 9,\n",
       " 9,\n",
       " 2,\n",
       " 0,\n",
       " 6,\n",
       " 0,\n",
       " 0,\n",
       " 9,\n",
       " 8,\n",
       " 1,\n",
       " 3,\n",
       " 3,\n",
       " 0,\n",
       " 8,\n",
       " 2,\n",
       " 4,\n",
       " 7,\n",
       " 0,\n",
       " 2,\n",
       " 0,\n",
       " 6,\n",
       " 3,\n",
       " 8,\n",
       " 7,\n",
       " 0,\n",
       " 1,\n",
       " 5,\n",
       " 5,\n",
       " 9,\n",
       " 0,\n",
       " 3,\n",
       " 1,\n",
       " 0,\n",
       " 9,\n",
       " 1,\n",
       " 8,\n",
       " 7,\n",
       " 9,\n",
       " 1,\n",
       " 2,\n",
       " 6,\n",
       " 1,\n",
       " 3,\n",
       " 2,\n",
       " 6,\n",
       " 8,\n",
       " 0,\n",
       " 6,\n",
       " 6,\n",
       " 6,\n",
       " 4,\n",
       " 2,\n",
       " 2,\n",
       " 0,\n",
       " 9,\n",
       " 2,\n",
       " 9,\n",
       " 4,\n",
       " 8,\n",
       " 6,\n",
       " 8,\n",
       " 0,\n",
       " 5,\n",
       " 0,\n",
       " 7,\n",
       " 7,\n",
       " 5,\n",
       " 5,\n",
       " 3,\n",
       " 5,\n",
       " 2,\n",
       " 2,\n",
       " 7,\n",
       " 1,\n",
       " 7,\n",
       " 5,\n",
       " 4,\n",
       " 6,\n",
       " 1,\n",
       " 9,\n",
       " 3,\n",
       " 6,\n",
       " 6,\n",
       " 9,\n",
       " 3,\n",
       " 8,\n",
       " 0,\n",
       " 7,\n",
       " 4,\n",
       " 6,\n",
       " 2,\n",
       " 7,\n",
       " 0,\n",
       " 5,\n",
       " 4,\n",
       " 6,\n",
       " 8,\n",
       " 9,\n",
       " 9,\n",
       " 1,\n",
       " 8,\n",
       " 0,\n",
       " 6,\n",
       " 7,\n",
       " 2,\n",
       " 2,\n",
       " 1,\n",
       " 0,\n",
       " 7,\n",
       " 5,\n",
       " 8,\n",
       " 8,\n",
       " 9,\n",
       " 0,\n",
       " 0,\n",
       " 4,\n",
       " 0,\n",
       " 1,\n",
       " 2,\n",
       " 7,\n",
       " 9,\n",
       " 4,\n",
       " 2,\n",
       " 7,\n",
       " 8,\n",
       " 7,\n",
       " 2,\n",
       " 6,\n",
       " 6,\n",
       " 9,\n",
       " 0,\n",
       " 0,\n",
       " 5,\n",
       " 0,\n",
       " 7,\n",
       " 4,\n",
       " 3,\n",
       " 5,\n",
       " 1,\n",
       " 0,\n",
       " 6,\n",
       " 7,\n",
       " 9,\n",
       " 6,\n",
       " 4,\n",
       " 3,\n",
       " 0,\n",
       " 1,\n",
       " 9,\n",
       " 8,\n",
       " 7,\n",
       " 8,\n",
       " 8,\n",
       " 6,\n",
       " 0,\n",
       " 1,\n",
       " 8,\n",
       " 3,\n",
       " 7,\n",
       " 0,\n",
       " 5,\n",
       " 6,\n",
       " 9,\n",
       " 9,\n",
       " 3,\n",
       " 7,\n",
       " 7,\n",
       " 7,\n",
       " 4,\n",
       " 4,\n",
       " 8,\n",
       " 0,\n",
       " 2,\n",
       " 9,\n",
       " 6,\n",
       " 4,\n",
       " 6,\n",
       " 6,\n",
       " 4,\n",
       " 5,\n",
       " 3,\n",
       " 7,\n",
       " 7,\n",
       " 7,\n",
       " 2,\n",
       " 5,\n",
       " 3,\n",
       " 9,\n",
       " 1,\n",
       " 4,\n",
       " 9,\n",
       " 9,\n",
       " 5,\n",
       " 7,\n",
       " 5,\n",
       " 0,\n",
       " 2,\n",
       " 0,\n",
       " 4,\n",
       " 9,\n",
       " 7,\n",
       " 3,\n",
       " 9,\n",
       " 2,\n",
       " 4,\n",
       " 5,\n",
       " 4,\n",
       " 0,\n",
       " 2,\n",
       " 6,\n",
       " 1,\n",
       " 7,\n",
       " 4,\n",
       " 4,\n",
       " 4,\n",
       " 3,\n",
       " 7,\n",
       " 8,\n",
       " 3,\n",
       " 7,\n",
       " 8,\n",
       " 0,\n",
       " 7,\n",
       " 7,\n",
       " 6,\n",
       " 0,\n",
       " 2,\n",
       " 2,\n",
       " 8,\n",
       " 6,\n",
       " 8,\n",
       " 7,\n",
       " 5,\n",
       " 9,\n",
       " 9,\n",
       " 9,\n",
       " 4,\n",
       " 0,\n",
       " 1,\n",
       " 0,\n",
       " 8,\n",
       " 1,\n",
       " 8,\n",
       " 8,\n",
       " 0,\n",
       " 2,\n",
       " 2,\n",
       " 2,\n",
       " 4,\n",
       " 6,\n",
       " 3,\n",
       " 4,\n",
       " 9,\n",
       " 4,\n",
       " 5,\n",
       " 9,\n",
       " 0,\n",
       " 4,\n",
       " 5,\n",
       " 6,\n",
       " 6,\n",
       " 1,\n",
       " 5,\n",
       " 5,\n",
       " 8,\n",
       " 9,\n",
       " 5,\n",
       " 8,\n",
       " 7,\n",
       " 7,\n",
       " 0,\n",
       " 7,\n",
       " 0,\n",
       " 3,\n",
       " 4,\n",
       " 0,\n",
       " 4,\n",
       " 6,\n",
       " 0,\n",
       " 0,\n",
       " 1,\n",
       " 5,\n",
       " 6,\n",
       " 6,\n",
       " 6,\n",
       " 2,\n",
       " 0,\n",
       " 9,\n",
       " 1,\n",
       " 7,\n",
       " 6,\n",
       " 7,\n",
       " 5,\n",
       " 9,\n",
       " 1,\n",
       " 6,\n",
       " 2,\n",
       " 5,\n",
       " 5,\n",
       " 0,\n",
       " 9,\n",
       " 5,\n",
       " 9,\n",
       " 4,\n",
       " 6,\n",
       " 4,\n",
       " 3,\n",
       " 2,\n",
       " 0,\n",
       " 7,\n",
       " 6,\n",
       " 2,\n",
       " 2,\n",
       " 6,\n",
       " 9,\n",
       " 5,\n",
       " 0,\n",
       " 0,\n",
       " 6,\n",
       " 7,\n",
       " 1,\n",
       " 1,\n",
       " 6,\n",
       " 6,\n",
       " 8,\n",
       " 8,\n",
       " 7,\n",
       " 5,\n",
       " 4,\n",
       " 8,\n",
       " 8,\n",
       " 0,\n",
       " 0,\n",
       " 8,\n",
       " 5,\n",
       " 4,\n",
       " 8,\n",
       " 9,\n",
       " 6,\n",
       " 1,\n",
       " 2,\n",
       " 6,\n",
       " 1,\n",
       " 4,\n",
       " 7,\n",
       " 2,\n",
       " 5,\n",
       " 3,\n",
       " 8,\n",
       " 5,\n",
       " 0,\n",
       " 2,\n",
       " 1,\n",
       " 6,\n",
       " 8,\n",
       " 3,\n",
       " 3,\n",
       " 9,\n",
       " 6,\n",
       " 9,\n",
       " 8,\n",
       " 8,\n",
       " 5,\n",
       " 9,\n",
       " 6,\n",
       " 6,\n",
       " 3,\n",
       " 1,\n",
       " 7,\n",
       " 7,\n",
       " 1,\n",
       " 2,\n",
       " 7,\n",
       " 9,\n",
       " 9,\n",
       " 4,\n",
       " 7,\n",
       " 8,\n",
       " 8,\n",
       " 5,\n",
       " 6,\n",
       " 8,\n",
       " 4,\n",
       " 6,\n",
       " 8,\n",
       " 0,\n",
       " 8,\n",
       " 2,\n",
       " 5,\n",
       " 3,\n",
       " 7,\n",
       " 7,\n",
       " 9,\n",
       " 9,\n",
       " 3,\n",
       " 4,\n",
       " 4,\n",
       " 5,\n",
       " 3,\n",
       " 2,\n",
       " 5,\n",
       " 4,\n",
       " 9,\n",
       " 0,\n",
       " 1,\n",
       " 1,\n",
       " 4,\n",
       " 1,\n",
       " 9,\n",
       " 7,\n",
       " 7,\n",
       " 2,\n",
       " 3,\n",
       " 4,\n",
       " 9,\n",
       " 0,\n",
       " 1,\n",
       " 5,\n",
       " 6,\n",
       " 7,\n",
       " 2,\n",
       " 3,\n",
       " 2,\n",
       " 8,\n",
       " 4,\n",
       " 9,\n",
       " 3,\n",
       " 5,\n",
       " 1,\n",
       " 6,\n",
       " 0,\n",
       " 8,\n",
       " 9,\n",
       " 2,\n",
       " 2,\n",
       " 2,\n",
       " 6,\n",
       " 0,\n",
       " 3,\n",
       " 2,\n",
       " 0,\n",
       " 7,\n",
       " 8,\n",
       " 3,\n",
       " 8,\n",
       " 2,\n",
       " 7,\n",
       " 5,\n",
       " 7,\n",
       " 2,\n",
       " 6,\n",
       " 8,\n",
       " 7,\n",
       " 4,\n",
       " 2,\n",
       " 1,\n",
       " 8,\n",
       " 8,\n",
       " 6,\n",
       " 0,\n",
       " 8,\n",
       " 7,\n",
       " 4,\n",
       " 3,\n",
       " 3,\n",
       " 8,\n",
       " 4,\n",
       " 9,\n",
       " 7,\n",
       " 8,\n",
       " 8,\n",
       " 1,\n",
       " 8,\n",
       " 0,\n",
       " 1,\n",
       " 3,\n",
       " 6,\n",
       " 5,\n",
       " 5,\n",
       " 0,\n",
       " 7,\n",
       " 9,\n",
       " 1,\n",
       " 2,\n",
       " 1,\n",
       " 4,\n",
       " 1,\n",
       " 7,\n",
       " 5,\n",
       " 7,\n",
       " 8,\n",
       " 7,\n",
       " 2,\n",
       " 7,\n",
       " 4,\n",
       " 6,\n",
       " 2,\n",
       " 3,\n",
       " 9,\n",
       " 0,\n",
       " 9,\n",
       " 1,\n",
       " 2,\n",
       " 4,\n",
       " 6,\n",
       " 8,\n",
       " 2,\n",
       " 1,\n",
       " 7,\n",
       " 2,\n",
       " 6,\n",
       " 0,\n",
       " 1,\n",
       " 2,\n",
       " 2,\n",
       " 9,\n",
       " 5,\n",
       " 4,\n",
       " 6,\n",
       " 1,\n",
       " 6,\n",
       " 4,\n",
       " 0,\n",
       " 4,\n",
       " 7,\n",
       " 6,\n",
       " 0,\n",
       " 6,\n",
       " 9,\n",
       " 1,\n",
       " 7,\n",
       " 6,\n",
       " 7,\n",
       " 0,\n",
       " 3,\n",
       " 1,\n",
       " 6,\n",
       " 8,\n",
       " 0,\n",
       " 0,\n",
       " 7,\n",
       " 4,\n",
       " 7,\n",
       " 7,\n",
       " 7,\n",
       " 4,\n",
       " 7,\n",
       " 2,\n",
       " 7,\n",
       " 1,\n",
       " 2,\n",
       " 7,\n",
       " 7,\n",
       " 4,\n",
       " 0,\n",
       " 4,\n",
       " 7,\n",
       " 9,\n",
       " 2,\n",
       " 2,\n",
       " 7,\n",
       " 2,\n",
       " 0,\n",
       " 8,\n",
       " 9,\n",
       " 3,\n",
       " 8,\n",
       " 5,\n",
       " 6,\n",
       " 2,\n",
       " 0,\n",
       " 8,\n",
       " 7,\n",
       " 4,\n",
       " 7,\n",
       " 6,\n",
       " 5,\n",
       " 3,\n",
       " 0,\n",
       " 6,\n",
       " 2,\n",
       " 5,\n",
       " 5,\n",
       " 4,\n",
       " 1,\n",
       " 5,\n",
       " 3,\n",
       " 2,\n",
       " 7,\n",
       " 0,\n",
       " 7,\n",
       " 2,\n",
       " 8,\n",
       " 3,\n",
       " 2,\n",
       " 0,\n",
       " 6,\n",
       " 4,\n",
       " 2,\n",
       " 9,\n",
       " 8,\n",
       " 1,\n",
       " 0,\n",
       " 5,\n",
       " 7,\n",
       " 0,\n",
       " 7,\n",
       " 8,\n",
       " 4,\n",
       " 6,\n",
       " 6,\n",
       " 3,\n",
       " 0,\n",
       " 1,\n",
       " 3,\n",
       " 7,\n",
       " 0,\n",
       " 2,\n",
       " 3,\n",
       " 1,\n",
       " 4,\n",
       " 0,\n",
       " 3,\n",
       " 8,\n",
       " 4,\n",
       " 5,\n",
       " 4,\n",
       " 7,\n",
       " 8,\n",
       " 4,\n",
       " 0,\n",
       " 0,\n",
       " 9,\n",
       " 0,\n",
       " 0,\n",
       " 1,\n",
       " 8,\n",
       " 4,\n",
       " 4,\n",
       " 6,\n",
       " 7,\n",
       " 5,\n",
       " 1,\n",
       " 1,\n",
       " 3,\n",
       " 7,\n",
       " 3,\n",
       " 0,\n",
       " 5,\n",
       " 6,\n",
       " 6,\n",
       " 5,\n",
       " 8,\n",
       " 7,\n",
       " 1,\n",
       " 6,\n",
       " 0,\n",
       " 8,\n",
       " 7,\n",
       " 3,\n",
       " 3,\n",
       " 4,\n",
       " 0,\n",
       " 1,\n",
       " 4,\n",
       " 8,\n",
       " 8,\n",
       " 0,\n",
       " 6,\n",
       " 9,\n",
       " 9,\n",
       " 9,\n",
       " 0,\n",
       " 5,\n",
       " 8,\n",
       " 6,\n",
       " 0,\n",
       " 8,\n",
       " 4,\n",
       " 2,\n",
       " 3,\n",
       " 3,\n",
       " 7,\n",
       " 2,\n",
       " 2,\n",
       " 5,\n",
       " 1,\n",
       " 8,\n",
       " 9,\n",
       " 0,\n",
       " 7,\n",
       " 6,\n",
       " 0,\n",
       " 5,\n",
       " 0,\n",
       " 1,\n",
       " 4,\n",
       " 8,\n",
       " 5,\n",
       " 9,\n",
       " 4,\n",
       " 8,\n",
       " 4,\n",
       " 7,\n",
       " 0,\n",
       " 6,\n",
       " 7,\n",
       " 8,\n",
       " 9,\n",
       " 6,\n",
       " 1,\n",
       " 6,\n",
       " 6,\n",
       " 0,\n",
       " 6,\n",
       " 0,\n",
       " 1,\n",
       " 9,\n",
       " 9,\n",
       " 4,\n",
       " 5,\n",
       " 1,\n",
       " 7,\n",
       " 0,\n",
       " 3,\n",
       " 8,\n",
       " 1,\n",
       " 9,\n",
       " 6,\n",
       " 1,\n",
       " 5,\n",
       " 4,\n",
       " 7,\n",
       " 8,\n",
       " 3,\n",
       " 1,\n",
       " 2,\n",
       " 0,\n",
       " 1,\n",
       " 5,\n",
       " 8,\n",
       " 7,\n",
       " 2,\n",
       " 2,\n",
       " 8,\n",
       " 1,\n",
       " 3,\n",
       " 8,\n",
       " ...]"
      ]
     },
     "execution_count": 58,
     "metadata": {},
     "output_type": "execute_result"
    }
   ],
   "source": [
    "y_classes=[np.argmax(element) for element in y_pred]\n",
    "y_classes"
   ]
  },
  {
   "cell_type": "code",
   "execution_count": 59,
   "id": "d592324d",
   "metadata": {},
   "outputs": [
    {
     "data": {
      "text/plain": [
       "array([3, 8, 8, 0, 6], dtype=uint8)"
      ]
     },
     "execution_count": 59,
     "metadata": {},
     "output_type": "execute_result"
    }
   ],
   "source": [
    "y_test[:5]"
   ]
  },
  {
   "cell_type": "code",
   "execution_count": 60,
   "id": "5c9ebe2a",
   "metadata": {},
   "outputs": [
    {
     "data": {
      "image/png": "[encoded data removed]",
      "text/plain": [
       "<Figure size 1500x200 with 1 Axes>"
      ]
     },
     "metadata": {},
     "output_type": "display_data"
    }
   ],
   "source": [
    "plot_sample(X_test,y_test,1)"
   ]
  },
  {
   "cell_type": "code",
   "execution_count": 61,
   "id": "99ef619a",
   "metadata": {},
   "outputs": [
    {
     "data": {
      "text/plain": [
       "'ship'"
      ]
     },
     "execution_count": 61,
     "metadata": {},
     "output_type": "execute_result"
    }
   ],
   "source": [
    "classes[y_classes[1]]"
   ]
  },
  {
   "cell_type": "code",
   "execution_count": 62,
   "id": "912c2cfe",
   "metadata": {},
   "outputs": [
    {
     "name": "stdout",
     "output_type": "stream",
     "text": [
      "Classification Report: \n",
      "               precision    recall  f1-score   support\n",
      "\n",
      "           0       0.65      0.81      0.72      1000\n",
      "           1       0.81      0.83      0.82      1000\n",
      "           2       0.62      0.57      0.59      1000\n",
      "           3       0.57      0.47      0.51      1000\n",
      "           4       0.66      0.64      0.65      1000\n",
      "           5       0.61      0.62      0.61      1000\n",
      "           6       0.81      0.74      0.78      1000\n",
      "           7       0.69      0.80      0.74      1000\n",
      "           8       0.78      0.81      0.79      1000\n",
      "           9       0.82      0.73      0.77      1000\n",
      "\n",
      "    accuracy                           0.70     10000\n",
      "   macro avg       0.70      0.70      0.70     10000\n",
      "weighted avg       0.70      0.70      0.70     10000\n",
      "\n"
     ]
    }
   ],
   "source": [
    "print('Classification Report: \\n',classification_report(y_test,y_classes))"
   ]
  },
  {
   "cell_type": "code",
   "execution_count": null,
   "id": "c8745247",
   "metadata": {},
   "outputs": [],
   "source": []
  }
 ],
 "metadata": {
  "kernelspec": {
   "display_name": "Python 3 (ipykernel)",
   "language": "python",
   "name": "python3"
  },
  "language_info": {
   "codemirror_mode": {
    "name": "ipython",
    "version": 3
   },
   "file_extension": ".py",
   "mimetype": "text/x-python",
   "name": "python",
   "nbconvert_exporter": "python",
   "pygments_lexer": "ipython3",
   "version": "3.10.9"
  }
 },
 "nbformat": 4,
 "nbformat_minor": 5
}
